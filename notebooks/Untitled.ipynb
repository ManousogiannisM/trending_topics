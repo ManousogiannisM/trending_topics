{
 "cells": [
  {
   "cell_type": "code",
   "execution_count": 164,
   "metadata": {},
   "outputs": [],
   "source": [
    "from pyspark.sql import SparkSession\n",
    "from pyspark.sql import functions as F\n",
    "from pyspark.sql.window import Window"
   ]
  },
  {
   "cell_type": "code",
   "execution_count": 165,
   "metadata": {},
   "outputs": [],
   "source": [
    "spark = SparkSession.builder.getOrCreate()"
   ]
  },
  {
   "cell_type": "code",
   "execution_count": 166,
   "metadata": {},
   "outputs": [],
   "source": [
    "spark.conf.set(\"spark.sql.legacy.timeParserPolicy\", \"LEGACY\")"
   ]
  },
  {
   "cell_type": "code",
   "execution_count": 167,
   "metadata": {},
   "outputs": [],
   "source": [
    "data = spark.read.json(\"sample.json\")"
   ]
  },
  {
   "cell_type": "code",
   "execution_count": 168,
   "metadata": {},
   "outputs": [],
   "source": [
    "with_timestamps = (data\n",
    " .where(~(F.isnull(\"created_at\") | F.isnull(\"text\")))\n",
    " .select(\n",
    "     F.to_timestamp(\"created_at\", \"EEE MMM dd HH:mm:ss Z yyyy\").alias(\"timestamp\"),\n",
    "     F.split(\"text\", r\"\\s+\").alias(\"split_text\"),\n",
    " )\n",
    " .where(~F.isnull(\"timestamp\"))\n",
    ")"
   ]
  },
  {
   "cell_type": "code",
   "execution_count": 169,
   "metadata": {},
   "outputs": [
    {
     "name": "stdout",
     "output_type": "stream",
     "text": [
      "+-------------------+-----------------------------------+\n",
      "|          timestamp|                         split_text|\n",
      "+-------------------+-----------------------------------+\n",
      "|2011-02-25 15:04:49|            [@sai3ki, おやすみ＾＾]|\n",
      "|2011-02-25 15:04:56|             [感動を返せ王子wwwwww]|\n",
      "|2011-02-25 15:05:02|               [RT, @IAmSteveHar...|\n",
      "|2011-02-25 15:05:03|               [@67terremoto, ar...|\n",
      "|2011-02-25 15:05:07| [え!!どうしたんめっちゃおもろい...|\n",
      "|2011-02-25 15:05:12|               [RT, @Corinthians...|\n",
      "|2011-02-25 15:05:22|               [Acompanhem, as, ...|\n",
      "|2011-02-25 15:05:26|               [GO, FOLLOW, THIS...|\n",
      "|2011-02-25 15:05:33|               [Genit, ah, RT, @...|\n",
      "|2011-02-25 15:05:39|               [é, realmente, me...|\n",
      "|2011-02-25 15:05:42|  [『ヒグチ薬局、本日閉店。ｍ(__...|\n",
      "|2011-02-25 15:05:51|                 [@izabelll, TGIF!]|\n",
      "|2011-02-25 15:05:58|              [@barley_candy, あ...|\n",
      "|2011-02-25 15:06:13|               [@Joanaacantillo2...|\n",
      "|2011-02-25 15:06:18|[会議ー　…めんどくさいからさ、い...|\n",
      "|2011-02-25 15:06:24|               [@keziayaya, yela...|\n",
      "|2011-02-25 15:06:32|               [a, hora, num, pa...|\n",
      "|2011-02-25 15:06:37|               [Muy, buenos, día...|\n",
      "|2011-02-25 15:06:43|               [vou, ter, que, e...|\n",
      "|2011-02-25 15:06:49|               [Thank, you, for,...|\n",
      "+-------------------+-----------------------------------+\n",
      "only showing top 20 rows\n",
      "\n"
     ]
    }
   ],
   "source": [
    "with_timestamps.show()"
   ]
  },
  {
   "cell_type": "code",
   "execution_count": 170,
   "metadata": {},
   "outputs": [],
   "source": [
    "words = (with_timestamps\n",
    " .select(\n",
    "     F.month(\"timestamp\").alias(\"month\"),\n",
    "     F.dayofyear(\"timestamp\").alias(\"dayofyear\"),\n",
    "     F.explode(\"split_text\").alias(\"word\"),\n",
    " )\n",
    ")"
   ]
  },
  {
   "cell_type": "code",
   "execution_count": 171,
   "metadata": {},
   "outputs": [
    {
     "name": "stdout",
     "output_type": "stream",
     "text": [
      "+-----+---------+--------------------+\n",
      "|month|dayofyear|                word|\n",
      "+-----+---------+--------------------+\n",
      "|    2|       56|             @sai3ki|\n",
      "|    2|       56|        おやすみ＾＾|\n",
      "|    2|       56|感動を返せ王子wwwwww|\n",
      "|    2|       56|                  RT|\n",
      "|    2|       56|    @IAmSteveHarvey:|\n",
      "|    2|       56|              Having|\n",
      "|    2|       56|                   a|\n",
      "|    2|       56|        relationship|\n",
      "|    2|       56|                with|\n",
      "|    2|       56|                 God|\n",
      "|    2|       56|                  is|\n",
      "|    2|       56|                  an|\n",
      "|    2|       56|                  on|\n",
      "|    2|       56|               going|\n",
      "|    2|       56|            process.|\n",
      "|    2|       56|                 You|\n",
      "|    2|       56|                have|\n",
      "|    2|       56|                  to|\n",
      "|    2|       56|                work|\n",
      "|    2|       56|                  at|\n",
      "+-----+---------+--------------------+\n",
      "only showing top 20 rows\n",
      "\n"
     ]
    }
   ],
   "source": [
    "words.show()"
   ]
  },
  {
   "cell_type": "code",
   "execution_count": 176,
   "metadata": {},
   "outputs": [],
   "source": [
    "counts = (words\n",
    " .groupBy(\"dayofyear\", \"word\")\n",
    " .agg(F.count(\"*\").alias(\"count\"))\n",
    " .orderBy(F.desc(\"count\"))\n",
    ")"
   ]
  },
  {
   "cell_type": "code",
   "execution_count": 177,
   "metadata": {},
   "outputs": [
    {
     "name": "stdout",
     "output_type": "stream",
     "text": [
      "+---------+----+-----+\n",
      "|dayofyear|word|count|\n",
      "+---------+----+-----+\n",
      "|       57|  RT| 1996|\n",
      "|       57|   a| 1161|\n",
      "|       58|  RT|  991|\n",
      "|       56|  RT|  951|\n",
      "|       57|  to|  912|\n",
      "|       57|   I|  902|\n",
      "|       57| the|  859|\n",
      "|       57|  de|  685|\n",
      "|       56|   a|  596|\n",
      "|       57| que|  594|\n",
      "|       57| you|  562|\n",
      "|       56| the|  523|\n",
      "|       58|   a|  495|\n",
      "|       57|  me|  495|\n",
      "|       57|  in|  483|\n",
      "|       56|  to|  476|\n",
      "|       57| and|  471|\n",
      "|       57|  is|  439|\n",
      "|       58|  to|  436|\n",
      "|       56|   I|  435|\n",
      "+---------+----+-----+\n",
      "only showing top 20 rows\n",
      "\n"
     ]
    }
   ],
   "source": [
    "counts.show()"
   ]
  },
  {
   "cell_type": "code",
   "execution_count": 182,
   "metadata": {},
   "outputs": [
    {
     "name": "stdout",
     "output_type": "stream",
     "text": [
      "+---------+----------+-----+-----+\n",
      "|dayofyear|      word|count|delta|\n",
      "+---------+----------+-----+-----+\n",
      "|       57|\u0003$\u0001\u0003Passei|    1|    0|\n",
      "|       57|         !|  209|  102|\n",
      "|       58|         !|   83| -126|\n",
      "|       56|         !|  107|    0|\n",
      "|       56|        !!|   17|    0|\n",
      "|       57|        !!|   54|   37|\n",
      "|       58|        !!|   12|  -42|\n",
      "|       58|       !!!|    9|  -18|\n",
      "|       57|       !!!|   27|   12|\n",
      "|       56|       !!!|   15|    0|\n",
      "|       57|      !!!!|    8|    0|\n",
      "|       58|      !!!!|    2|   -6|\n",
      "|       57|     !!!!!|    2|   -1|\n",
      "|       58|     !!!!!|    1|   -1|\n",
      "|       56|     !!!!!|    3|    0|\n",
      "|       58|    !!!!!!|    1|   -1|\n",
      "|       57|    !!!!!!|    2|    0|\n",
      "|       56|    !!!!!!|    2|    0|\n",
      "|       57|   !!!!!!!|    1|    0|\n",
      "|       56|   !!!!!!!|    1|    0|\n",
      "+---------+----------+-----+-----+\n",
      "only showing top 20 rows\n",
      "\n"
     ]
    }
   ],
   "source": [
    "window = Window.partitionBy(\"word\").orderBy(\"dayofyear\").rowsBetween(Window.currentRow - 1, Window.currentRow)\n",
    "(counts\n",
    " .withColumn(\n",
    "     \"delta\",\n",
    "     F.last(\"count\").over(window) - F.first(\"count\").over(window),\n",
    " )\n",
    " .orderBy(F.asc(\"word\"))\n",
    ").show()"
   ]
  }
 ],
 "metadata": {
  "kernelspec": {
   "display_name": "Python 3",
   "language": "python",
   "name": "python3"
  },
  "language_info": {
   "codemirror_mode": {
    "name": "ipython",
    "version": 3
   },
   "file_extension": ".py",
   "mimetype": "text/x-python",
   "name": "python",
   "nbconvert_exporter": "python",
   "pygments_lexer": "ipython3",
   "version": "3.8.5"
  }
 },
 "nbformat": 4,
 "nbformat_minor": 4
}
