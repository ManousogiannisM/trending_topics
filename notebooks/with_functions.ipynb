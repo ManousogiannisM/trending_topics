{
 "cells": [
  {
   "cell_type": "code",
   "execution_count": 1,
   "metadata": {},
   "outputs": [],
   "source": [
    "from pyspark.sql import SparkSession, DataFrame\n",
    "from pyspark.sql import functions as F\n",
    "from pyspark.sql.window import Window"
   ]
  },
  {
   "cell_type": "code",
   "execution_count": 2,
   "metadata": {},
   "outputs": [],
   "source": [
    "%load_ext autoreload\n",
    "%autoreload 2\n",
    "\n",
    "import trending_topics as trends"
   ]
  },
  {
   "cell_type": "code",
   "execution_count": 3,
   "metadata": {},
   "outputs": [],
   "source": [
    "spark = SparkSession.builder.getOrCreate()\n",
    "spark.conf.set(\"spark.sql.legacy.timeParserPolicy\", \"LEGACY\")"
   ]
  },
  {
   "cell_type": "code",
   "execution_count": 6,
   "metadata": {},
   "outputs": [
    {
     "name": "stdout",
     "output_type": "stream",
     "text": [
      "+-------------------+---------------+\n",
      "|          timestamp|          topic|\n",
      "+-------------------+---------------+\n",
      "|2011-02-25 15:05:12|    corinthians|\n",
      "|2011-02-25 15:05:22|         ildivo|\n",
      "|2011-02-25 15:05:42|     centerkita|\n",
      "|2011-02-25 15:06:49|   followfriday|\n",
      "|2011-02-25 15:07:52|      viatumblr|\n",
      "|2011-02-25 15:09:04|    foreversnsd|\n",
      "|2011-02-25 15:09:04|      ilovesnsd|\n",
      "|2011-02-25 15:11:29|constantcontact|\n",
      "|2011-02-25 15:13:10|           hhrs|\n",
      "|2011-02-25 15:13:28| vampirediaries|\n",
      "|2011-02-25 15:13:28|            tvd|\n",
      "|2011-02-25 15:14:49|     nowplaying|\n",
      "|2011-02-25 15:15:03|    bacamantera|\n",
      "|2011-02-25 15:15:08|             ff|\n",
      "|2011-02-25 15:15:08|         ffsexy|\n",
      "|2011-02-25 15:15:24|        acidman|\n",
      "|2011-02-25 15:15:24|        acidman|\n",
      "|2011-02-25 15:15:35| teamfollowback|\n",
      "|2011-02-25 15:15:56|          credo|\n",
      "|2011-02-25 15:15:56|            arg|\n",
      "+-------------------+---------------+\n",
      "only showing top 20 rows\n",
      "\n",
      "+-------------------+-------------------+\n",
      "|     min(timestamp)|     max(timestamp)|\n",
      "+-------------------+-------------------+\n",
      "|2011-02-25 15:05:12|2011-02-27 11:31:24|\n",
      "+-------------------+-------------------+\n",
      "\n"
     ]
    }
   ],
   "source": [
    "df = spark.read.json(\"../sample.json\")\n",
    "df = trends.filter_null(df)\n",
    "df = trends.parse_timestamps(df)\n",
    "df = trends.get_topics(df, hashtags=True)\n",
    "df = df.select(\"timestamp\", \"topic\")\n",
    "\n",
    "df.show()\n",
    "df.select(F.min(\"timestamp\"), F.max(\"timestamp\")).show()"
   ]
  },
  {
   "cell_type": "code",
   "execution_count": 7,
   "metadata": {},
   "outputs": [
    {
     "name": "stdout",
     "output_type": "stream",
     "text": [
      "+--------------------+------------+-----+\n",
      "|              window|       topic|count|\n",
      "+--------------------+------------+-----+\n",
      "|[2011-02-26 17:00...|  cambiochat|   37|\n",
      "|[2011-02-26 13:00...|   ficadiogo|   12|\n",
      "|[2011-02-25 18:00...|          ff|   12|\n",
      "|[2011-02-26 05:00...|    clericot|   11|\n",
      "|[2011-02-26 07:00...| longlivetvd|   10|\n",
      "|[2011-02-25 19:00...|          ff|   10|\n",
      "|[2011-02-25 23:00...|          ff|    9|\n",
      "|[2011-02-25 21:00...|          ff|    8|\n",
      "|[2011-02-26 01:00...|          ff|    8|\n",
      "|[2011-02-25 22:00...|          ff|    8|\n",
      "|[2011-02-25 20:00...|          ff|    8|\n",
      "|[2011-02-25 17:00...|          ff|    7|\n",
      "|[2011-02-25 16:00...|          ff|    7|\n",
      "|[2011-02-26 21:00...|  nowplaying|    7|\n",
      "|[2011-02-26 02:00...|          ff|    6|\n",
      "|[2011-02-25 15:00...|          ff|    6|\n",
      "|[2011-02-26 00:00...|          ff|    5|\n",
      "|[2011-02-26 21:00...|db40birthday|    5|\n",
      "|[2011-02-26 03:00...|          ff|    5|\n",
      "|[2011-02-25 22:00...|     90sswag|    4|\n",
      "+--------------------+------------+-----+\n",
      "only showing top 20 rows\n",
      "\n"
     ]
    }
   ],
   "source": [
    "trends.count_within_timeframe(df, \"1 hour\").orderBy(F.desc(\"count\")).show()"
   ]
  },
  {
   "cell_type": "code",
   "execution_count": 8,
   "metadata": {},
   "outputs": [
    {
     "name": "stdout",
     "output_type": "stream",
     "text": [
      "+--------------------+--------------------+-----+------------------+\n",
      "|              window|               topic|count|             slope|\n",
      "+--------------------+--------------------+-----+------------------+\n",
      "|[2011-02-26 17:00...|          cambiochat|   14|               6.0|\n",
      "|[2011-02-25 15:30...|                  ff|    5|               4.0|\n",
      "|[2011-02-26 21:00...|          nowplaying|    5| 3.545454545454545|\n",
      "|[2011-02-25 21:00...|             90sswag|    3|               2.0|\n",
      "|[2011-02-25 23:30...|             gaddafi|    3|               2.0|\n",
      "|[2011-02-26 17:30...|          cambiochat|   23|             1.875|\n",
      "|[2011-02-26 23:30...|                  np|    3| 1.727272727272727|\n",
      "|[2011-02-25 18:00...|                  ff|    9|1.6999999999999997|\n",
      "|[2011-02-25 23:30...|               libya|    3|1.6250000000000002|\n",
      "|[2011-02-26 22:30...|                  fb|    3|               1.5|\n",
      "|[2011-02-26 19:30...|                cuse|    2|               1.0|\n",
      "|[2011-02-27 02:00...|            viña2011|    2|               1.0|\n",
      "|[2011-02-27 05:00...|      teamfollowback|    2|               1.0|\n",
      "|[2011-02-25 18:00...|        followfriday|    2|               1.0|\n",
      "|[2011-02-25 17:00...|                  np|    2|               1.0|\n",
      "|[2011-02-25 18:30...|      teamfollowback|    2|               1.0|\n",
      "|[2011-02-26 11:30...|          bieberfact|    2|               1.0|\n",
      "|[2011-02-26 22:00...|         nowwatching|    2|               1.0|\n",
      "|[2011-02-25 19:30...|wordsthatcanstart...|    2|               1.0|\n",
      "|[2011-02-27 05:00...|             500aday|    2|               1.0|\n",
      "+--------------------+--------------------+-----+------------------+\n",
      "only showing top 20 rows\n",
      "\n"
     ]
    }
   ],
   "source": [
    "counted = trends.count_within_timeframe(df, \"30 minutes\")\n",
    "with_slope = trends.calculate_slope(counted)\n",
    "with_slope.orderBy(F.desc(\"slope\")).show()"
   ]
  },
  {
   "cell_type": "code",
   "execution_count": 9,
   "metadata": {},
   "outputs": [
    {
     "name": "stdout",
     "output_type": "stream",
     "text": [
      "+--------------------+---------+-----+-------------------+----------+\n",
      "|              window|    topic|count|              slope|trend_rank|\n",
      "+--------------------+---------+-----+-------------------+----------+\n",
      "|[2011-02-25 22:30...|       ff|    6| 0.3333333333333333|         1|\n",
      "|[2011-02-25 22:30...|  90sswag|    2|0.14285714285714285|         2|\n",
      "|[2011-02-25 22:30...|teamzeeti|    1|                0.0|         3|\n",
      "|[2011-02-25 22:30...|   random|    1|                0.0|         3|\n",
      "|[2011-02-25 22:30...|  fashion|    1|                0.0|         3|\n",
      "+--------------------+---------+-----+-------------------+----------+\n",
      "\n"
     ]
    }
   ],
   "source": [
    "from datetime import datetime\n",
    "trends.trending_topics(with_slope, datetime.fromisoformat(\"2011-02-25 22:34:50\"), 5).show()"
   ]
  }
 ],
 "metadata": {
  "kernelspec": {
   "display_name": "Python 3",
   "language": "python",
   "name": "python3"
  },
  "language_info": {
   "codemirror_mode": {
    "name": "ipython",
    "version": 3
   },
   "file_extension": ".py",
   "mimetype": "text/x-python",
   "name": "python",
   "nbconvert_exporter": "python",
   "pygments_lexer": "ipython3",
   "version": "3.8.5"
  }
 },
 "nbformat": 4,
 "nbformat_minor": 4
}
